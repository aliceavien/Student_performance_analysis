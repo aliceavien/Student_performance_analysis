{
 "cells": [
  {
   "cell_type": "code",
   "execution_count": 46,
   "id": "e5a542f0",
   "metadata": {},
   "outputs": [],
   "source": [
    "import numpy as np\n",
    "import pandas as pd\n",
    "import matplotlib.pyplot as plt\n",
    "import seaborn as sns\n",
    "import scipy.stats as stats"
   ]
  },
  {
   "cell_type": "code",
   "execution_count": 2,
   "id": "1929ef70",
   "metadata": {},
   "outputs": [],
   "source": [
    "data =pd.read_csv(\"StudentsPerformance.csv\")"
   ]
  },
  {
   "cell_type": "code",
   "execution_count": 3,
   "id": "578b321a",
   "metadata": {},
   "outputs": [
    {
     "data": {
      "text/html": [
       "<div>\n",
       "<style scoped>\n",
       "    .dataframe tbody tr th:only-of-type {\n",
       "        vertical-align: middle;\n",
       "    }\n",
       "\n",
       "    .dataframe tbody tr th {\n",
       "        vertical-align: top;\n",
       "    }\n",
       "\n",
       "    .dataframe thead th {\n",
       "        text-align: right;\n",
       "    }\n",
       "</style>\n",
       "<table border=\"1\" class=\"dataframe\">\n",
       "  <thead>\n",
       "    <tr style=\"text-align: right;\">\n",
       "      <th></th>\n",
       "      <th>gender</th>\n",
       "      <th>race/ethnicity</th>\n",
       "      <th>parental level of education</th>\n",
       "      <th>lunch</th>\n",
       "      <th>test preparation course</th>\n",
       "      <th>math score</th>\n",
       "      <th>reading score</th>\n",
       "      <th>writing score</th>\n",
       "    </tr>\n",
       "  </thead>\n",
       "  <tbody>\n",
       "    <tr>\n",
       "      <th>0</th>\n",
       "      <td>female</td>\n",
       "      <td>group B</td>\n",
       "      <td>bachelor's degree</td>\n",
       "      <td>standard</td>\n",
       "      <td>none</td>\n",
       "      <td>72</td>\n",
       "      <td>72</td>\n",
       "      <td>74</td>\n",
       "    </tr>\n",
       "    <tr>\n",
       "      <th>1</th>\n",
       "      <td>female</td>\n",
       "      <td>group C</td>\n",
       "      <td>some college</td>\n",
       "      <td>standard</td>\n",
       "      <td>completed</td>\n",
       "      <td>69</td>\n",
       "      <td>90</td>\n",
       "      <td>88</td>\n",
       "    </tr>\n",
       "    <tr>\n",
       "      <th>2</th>\n",
       "      <td>female</td>\n",
       "      <td>group B</td>\n",
       "      <td>master's degree</td>\n",
       "      <td>standard</td>\n",
       "      <td>none</td>\n",
       "      <td>90</td>\n",
       "      <td>95</td>\n",
       "      <td>93</td>\n",
       "    </tr>\n",
       "    <tr>\n",
       "      <th>3</th>\n",
       "      <td>male</td>\n",
       "      <td>group A</td>\n",
       "      <td>associate's degree</td>\n",
       "      <td>free/reduced</td>\n",
       "      <td>none</td>\n",
       "      <td>47</td>\n",
       "      <td>57</td>\n",
       "      <td>44</td>\n",
       "    </tr>\n",
       "    <tr>\n",
       "      <th>4</th>\n",
       "      <td>male</td>\n",
       "      <td>group C</td>\n",
       "      <td>some college</td>\n",
       "      <td>standard</td>\n",
       "      <td>none</td>\n",
       "      <td>76</td>\n",
       "      <td>78</td>\n",
       "      <td>75</td>\n",
       "    </tr>\n",
       "    <tr>\n",
       "      <th>5</th>\n",
       "      <td>female</td>\n",
       "      <td>group B</td>\n",
       "      <td>associate's degree</td>\n",
       "      <td>standard</td>\n",
       "      <td>none</td>\n",
       "      <td>71</td>\n",
       "      <td>83</td>\n",
       "      <td>78</td>\n",
       "    </tr>\n",
       "    <tr>\n",
       "      <th>6</th>\n",
       "      <td>female</td>\n",
       "      <td>group B</td>\n",
       "      <td>some college</td>\n",
       "      <td>standard</td>\n",
       "      <td>completed</td>\n",
       "      <td>88</td>\n",
       "      <td>95</td>\n",
       "      <td>92</td>\n",
       "    </tr>\n",
       "    <tr>\n",
       "      <th>7</th>\n",
       "      <td>male</td>\n",
       "      <td>group B</td>\n",
       "      <td>some college</td>\n",
       "      <td>free/reduced</td>\n",
       "      <td>none</td>\n",
       "      <td>40</td>\n",
       "      <td>43</td>\n",
       "      <td>39</td>\n",
       "    </tr>\n",
       "    <tr>\n",
       "      <th>8</th>\n",
       "      <td>male</td>\n",
       "      <td>group D</td>\n",
       "      <td>high school</td>\n",
       "      <td>free/reduced</td>\n",
       "      <td>completed</td>\n",
       "      <td>64</td>\n",
       "      <td>64</td>\n",
       "      <td>67</td>\n",
       "    </tr>\n",
       "    <tr>\n",
       "      <th>9</th>\n",
       "      <td>female</td>\n",
       "      <td>group B</td>\n",
       "      <td>high school</td>\n",
       "      <td>free/reduced</td>\n",
       "      <td>none</td>\n",
       "      <td>38</td>\n",
       "      <td>60</td>\n",
       "      <td>50</td>\n",
       "    </tr>\n",
       "  </tbody>\n",
       "</table>\n",
       "</div>"
      ],
      "text/plain": [
       "   gender race/ethnicity parental level of education         lunch  \\\n",
       "0  female        group B           bachelor's degree      standard   \n",
       "1  female        group C                some college      standard   \n",
       "2  female        group B             master's degree      standard   \n",
       "3    male        group A          associate's degree  free/reduced   \n",
       "4    male        group C                some college      standard   \n",
       "5  female        group B          associate's degree      standard   \n",
       "6  female        group B                some college      standard   \n",
       "7    male        group B                some college  free/reduced   \n",
       "8    male        group D                 high school  free/reduced   \n",
       "9  female        group B                 high school  free/reduced   \n",
       "\n",
       "  test preparation course  math score  reading score  writing score  \n",
       "0                    none          72             72             74  \n",
       "1               completed          69             90             88  \n",
       "2                    none          90             95             93  \n",
       "3                    none          47             57             44  \n",
       "4                    none          76             78             75  \n",
       "5                    none          71             83             78  \n",
       "6               completed          88             95             92  \n",
       "7                    none          40             43             39  \n",
       "8               completed          64             64             67  \n",
       "9                    none          38             60             50  "
      ]
     },
     "execution_count": 3,
     "metadata": {},
     "output_type": "execute_result"
    }
   ],
   "source": [
    "data.head(10)\n",
    "\n",
    "# Requirement 2"
   ]
  },
  {
   "cell_type": "code",
   "execution_count": 4,
   "id": "8d5bbdf8",
   "metadata": {},
   "outputs": [
    {
     "data": {
      "text/plain": [
       "gender                         0\n",
       "race/ethnicity                 0\n",
       "parental level of education    0\n",
       "lunch                          0\n",
       "test preparation course        0\n",
       "math score                     0\n",
       "reading score                  0\n",
       "writing score                  0\n",
       "dtype: int64"
      ]
     },
     "execution_count": 4,
     "metadata": {},
     "output_type": "execute_result"
    }
   ],
   "source": [
    "x = data.isnull().sum()\n",
    "\n",
    "x\n",
    "\n",
    "y= data.isna().sum()\n",
    "\n",
    "y\n",
    "\n",
    "# since sum of null values is zero, hence no missing value."
   ]
  },
  {
   "cell_type": "code",
   "execution_count": 6,
   "id": "24f2027d",
   "metadata": {},
   "outputs": [
    {
     "data": {
      "text/plain": [
       "math score          AxesSubplot(0.125,0.657941;0.227941x0.222059)\n",
       "reading score    AxesSubplot(0.398529,0.657941;0.227941x0.222059)\n",
       "writing score    AxesSubplot(0.672059,0.657941;0.227941x0.222059)\n",
       "dtype: object"
      ]
     },
     "execution_count": 6,
     "metadata": {},
     "output_type": "execute_result"
    },
    {
     "data": {
      "image/png": "[encoded data removed]",
      "text/plain": [
       "<Figure size 720x720 with 9 Axes>"
      ]
     },
     "metadata": {
      "needs_background": "light"
     },
     "output_type": "display_data"
    }
   ],
   "source": [
    "data.plot(kind=\"box\", subplots=True, layout=(3,3), figsize=(10,10)) \n",
    "\n",
    "#there are outliers for all three"
   ]
  },
  {
   "cell_type": "code",
   "execution_count": 7,
   "id": "88683c38",
   "metadata": {},
   "outputs": [
    {
     "data": {
      "text/html": [
       "<div>\n",
       "<style scoped>\n",
       "    .dataframe tbody tr th:only-of-type {\n",
       "        vertical-align: middle;\n",
       "    }\n",
       "\n",
       "    .dataframe tbody tr th {\n",
       "        vertical-align: top;\n",
       "    }\n",
       "\n",
       "    .dataframe thead th {\n",
       "        text-align: right;\n",
       "    }\n",
       "</style>\n",
       "<table border=\"1\" class=\"dataframe\">\n",
       "  <thead>\n",
       "    <tr style=\"text-align: right;\">\n",
       "      <th></th>\n",
       "      <th>gender</th>\n",
       "      <th>race/ethnicity</th>\n",
       "      <th>parental level of education</th>\n",
       "      <th>lunch</th>\n",
       "      <th>test preparation course</th>\n",
       "      <th>math score</th>\n",
       "      <th>reading score</th>\n",
       "      <th>writing score</th>\n",
       "    </tr>\n",
       "  </thead>\n",
       "  <tbody>\n",
       "    <tr>\n",
       "      <th>0</th>\n",
       "      <td>female</td>\n",
       "      <td>group B</td>\n",
       "      <td>bachelor's degree</td>\n",
       "      <td>standard</td>\n",
       "      <td>none</td>\n",
       "      <td>72</td>\n",
       "      <td>72</td>\n",
       "      <td>74</td>\n",
       "    </tr>\n",
       "    <tr>\n",
       "      <th>1</th>\n",
       "      <td>female</td>\n",
       "      <td>group C</td>\n",
       "      <td>some college</td>\n",
       "      <td>standard</td>\n",
       "      <td>completed</td>\n",
       "      <td>69</td>\n",
       "      <td>90</td>\n",
       "      <td>88</td>\n",
       "    </tr>\n",
       "    <tr>\n",
       "      <th>2</th>\n",
       "      <td>female</td>\n",
       "      <td>group B</td>\n",
       "      <td>master's degree</td>\n",
       "      <td>standard</td>\n",
       "      <td>none</td>\n",
       "      <td>90</td>\n",
       "      <td>95</td>\n",
       "      <td>93</td>\n",
       "    </tr>\n",
       "    <tr>\n",
       "      <th>3</th>\n",
       "      <td>male</td>\n",
       "      <td>group A</td>\n",
       "      <td>associate's degree</td>\n",
       "      <td>free/reduced</td>\n",
       "      <td>none</td>\n",
       "      <td>47</td>\n",
       "      <td>57</td>\n",
       "      <td>44</td>\n",
       "    </tr>\n",
       "    <tr>\n",
       "      <th>4</th>\n",
       "      <td>male</td>\n",
       "      <td>group C</td>\n",
       "      <td>some college</td>\n",
       "      <td>standard</td>\n",
       "      <td>none</td>\n",
       "      <td>76</td>\n",
       "      <td>78</td>\n",
       "      <td>75</td>\n",
       "    </tr>\n",
       "    <tr>\n",
       "      <th>...</th>\n",
       "      <td>...</td>\n",
       "      <td>...</td>\n",
       "      <td>...</td>\n",
       "      <td>...</td>\n",
       "      <td>...</td>\n",
       "      <td>...</td>\n",
       "      <td>...</td>\n",
       "      <td>...</td>\n",
       "    </tr>\n",
       "    <tr>\n",
       "      <th>995</th>\n",
       "      <td>female</td>\n",
       "      <td>group E</td>\n",
       "      <td>master's degree</td>\n",
       "      <td>standard</td>\n",
       "      <td>completed</td>\n",
       "      <td>88</td>\n",
       "      <td>99</td>\n",
       "      <td>95</td>\n",
       "    </tr>\n",
       "    <tr>\n",
       "      <th>996</th>\n",
       "      <td>male</td>\n",
       "      <td>group C</td>\n",
       "      <td>high school</td>\n",
       "      <td>free/reduced</td>\n",
       "      <td>none</td>\n",
       "      <td>62</td>\n",
       "      <td>55</td>\n",
       "      <td>55</td>\n",
       "    </tr>\n",
       "    <tr>\n",
       "      <th>997</th>\n",
       "      <td>female</td>\n",
       "      <td>group C</td>\n",
       "      <td>high school</td>\n",
       "      <td>free/reduced</td>\n",
       "      <td>completed</td>\n",
       "      <td>59</td>\n",
       "      <td>71</td>\n",
       "      <td>65</td>\n",
       "    </tr>\n",
       "    <tr>\n",
       "      <th>998</th>\n",
       "      <td>female</td>\n",
       "      <td>group D</td>\n",
       "      <td>some college</td>\n",
       "      <td>standard</td>\n",
       "      <td>completed</td>\n",
       "      <td>68</td>\n",
       "      <td>78</td>\n",
       "      <td>77</td>\n",
       "    </tr>\n",
       "    <tr>\n",
       "      <th>999</th>\n",
       "      <td>female</td>\n",
       "      <td>group D</td>\n",
       "      <td>some college</td>\n",
       "      <td>free/reduced</td>\n",
       "      <td>none</td>\n",
       "      <td>77</td>\n",
       "      <td>86</td>\n",
       "      <td>86</td>\n",
       "    </tr>\n",
       "  </tbody>\n",
       "</table>\n",
       "<p>1000 rows × 8 columns</p>\n",
       "</div>"
      ],
      "text/plain": [
       "     gender race/ethnicity parental level of education         lunch  \\\n",
       "0    female        group B           bachelor's degree      standard   \n",
       "1    female        group C                some college      standard   \n",
       "2    female        group B             master's degree      standard   \n",
       "3      male        group A          associate's degree  free/reduced   \n",
       "4      male        group C                some college      standard   \n",
       "..      ...            ...                         ...           ...   \n",
       "995  female        group E             master's degree      standard   \n",
       "996    male        group C                 high school  free/reduced   \n",
       "997  female        group C                 high school  free/reduced   \n",
       "998  female        group D                some college      standard   \n",
       "999  female        group D                some college  free/reduced   \n",
       "\n",
       "    test preparation course  math score  reading score  writing score  \n",
       "0                      none          72             72             74  \n",
       "1                 completed          69             90             88  \n",
       "2                      none          90             95             93  \n",
       "3                      none          47             57             44  \n",
       "4                      none          76             78             75  \n",
       "..                      ...         ...            ...            ...  \n",
       "995               completed          88             99             95  \n",
       "996                    none          62             55             55  \n",
       "997               completed          59             71             65  \n",
       "998               completed          68             78             77  \n",
       "999                    none          77             86             86  \n",
       "\n",
       "[1000 rows x 8 columns]"
      ]
     },
     "execution_count": 7,
     "metadata": {},
     "output_type": "execute_result"
    }
   ],
   "source": [
    "data"
   ]
  },
  {
   "cell_type": "code",
   "execution_count": 8,
   "id": "46e57f1b",
   "metadata": {},
   "outputs": [
    {
     "data": {
      "text/html": [
       "<div>\n",
       "<style scoped>\n",
       "    .dataframe tbody tr th:only-of-type {\n",
       "        vertical-align: middle;\n",
       "    }\n",
       "\n",
       "    .dataframe tbody tr th {\n",
       "        vertical-align: top;\n",
       "    }\n",
       "\n",
       "    .dataframe thead th {\n",
       "        text-align: right;\n",
       "    }\n",
       "</style>\n",
       "<table border=\"1\" class=\"dataframe\">\n",
       "  <thead>\n",
       "    <tr style=\"text-align: right;\">\n",
       "      <th></th>\n",
       "      <th>math score</th>\n",
       "    </tr>\n",
       "  </thead>\n",
       "  <tbody>\n",
       "    <tr>\n",
       "      <th>count</th>\n",
       "      <td>1000.00000</td>\n",
       "    </tr>\n",
       "    <tr>\n",
       "      <th>mean</th>\n",
       "      <td>66.08900</td>\n",
       "    </tr>\n",
       "    <tr>\n",
       "      <th>std</th>\n",
       "      <td>15.16308</td>\n",
       "    </tr>\n",
       "    <tr>\n",
       "      <th>min</th>\n",
       "      <td>0.00000</td>\n",
       "    </tr>\n",
       "    <tr>\n",
       "      <th>25%</th>\n",
       "      <td>57.00000</td>\n",
       "    </tr>\n",
       "    <tr>\n",
       "      <th>50%</th>\n",
       "      <td>66.00000</td>\n",
       "    </tr>\n",
       "    <tr>\n",
       "      <th>75%</th>\n",
       "      <td>77.00000</td>\n",
       "    </tr>\n",
       "    <tr>\n",
       "      <th>max</th>\n",
       "      <td>100.00000</td>\n",
       "    </tr>\n",
       "  </tbody>\n",
       "</table>\n",
       "</div>"
      ],
      "text/plain": [
       "       math score\n",
       "count  1000.00000\n",
       "mean     66.08900\n",
       "std      15.16308\n",
       "min       0.00000\n",
       "25%      57.00000\n",
       "50%      66.00000\n",
       "75%      77.00000\n",
       "max     100.00000"
      ]
     },
     "execution_count": 8,
     "metadata": {},
     "output_type": "execute_result"
    }
   ],
   "source": [
    "data[['math score']].describe()\n",
    "\n"
   ]
  },
  {
   "cell_type": "code",
   "execution_count": 9,
   "id": "927a2195",
   "metadata": {},
   "outputs": [],
   "source": [
    "Q1ms= data['math score'].quantile(0.25)\n",
    "Q3ms=data['math score'].quantile(0.75)\n",
    "IQRms = Q3ms-Q1ms"
   ]
  },
  {
   "cell_type": "code",
   "execution_count": 10,
   "id": "458fd1c5",
   "metadata": {},
   "outputs": [],
   "source": [
    "lower_lim_ms = Q1ms-1.5*IQRms\n",
    "upper_lim_ms= Q3ms+1.5*IQRms"
   ]
  },
  {
   "cell_type": "code",
   "execution_count": 11,
   "id": "02793277",
   "metadata": {},
   "outputs": [
    {
     "data": {
      "text/plain": [
       "27.0"
      ]
     },
     "execution_count": 11,
     "metadata": {},
     "output_type": "execute_result"
    }
   ],
   "source": [
    "lower_lim_ms"
   ]
  },
  {
   "cell_type": "code",
   "execution_count": 12,
   "id": "2eb231fe",
   "metadata": {},
   "outputs": [
    {
     "data": {
      "text/plain": [
       "107.0"
      ]
     },
     "execution_count": 12,
     "metadata": {},
     "output_type": "execute_result"
    }
   ],
   "source": [
    "upper_lim_ms"
   ]
  },
  {
   "cell_type": "code",
   "execution_count": 13,
   "id": "1a170e35",
   "metadata": {},
   "outputs": [],
   "source": [
    "#hence values above 107 and below 27 are outliers. "
   ]
  },
  {
   "cell_type": "code",
   "execution_count": 14,
   "id": "5a664aa9",
   "metadata": {},
   "outputs": [],
   "source": [
    "outlier_low_ms = (data['math score'] < lower_lim_ms)\n",
    "outlier_up_ms = (data['math score'] > upper_lim_ms)\n",
    "\n"
   ]
  },
  {
   "cell_type": "code",
   "execution_count": 15,
   "id": "6d1bf3eb",
   "metadata": {},
   "outputs": [
    {
     "data": {
      "text/plain": [
       "0      False\n",
       "1      False\n",
       "2      False\n",
       "3      False\n",
       "4      False\n",
       "       ...  \n",
       "995    False\n",
       "996    False\n",
       "997    False\n",
       "998    False\n",
       "999    False\n",
       "Name: math score, Length: 1000, dtype: bool"
      ]
     },
     "execution_count": 15,
     "metadata": {},
     "output_type": "execute_result"
    }
   ],
   "source": [
    "outlier_low_ms\n"
   ]
  },
  {
   "cell_type": "code",
   "execution_count": 16,
   "id": "a08eb841",
   "metadata": {},
   "outputs": [
    {
     "data": {
      "text/plain": [
       "0      False\n",
       "1      False\n",
       "2      False\n",
       "3      False\n",
       "4      False\n",
       "       ...  \n",
       "995    False\n",
       "996    False\n",
       "997    False\n",
       "998    False\n",
       "999    False\n",
       "Name: math score, Length: 1000, dtype: bool"
      ]
     },
     "execution_count": 16,
     "metadata": {},
     "output_type": "execute_result"
    }
   ],
   "source": [
    "outlier_up_ms"
   ]
  },
  {
   "cell_type": "code",
   "execution_count": 17,
   "id": "41953d91",
   "metadata": {},
   "outputs": [
    {
     "data": {
      "text/plain": [
       "0      72\n",
       "1      69\n",
       "2      90\n",
       "3      47\n",
       "4      76\n",
       "       ..\n",
       "995    88\n",
       "996    62\n",
       "997    59\n",
       "998    68\n",
       "999    77\n",
       "Name: math score, Length: 992, dtype: int64"
      ]
     },
     "execution_count": 17,
     "metadata": {},
     "output_type": "execute_result"
    }
   ],
   "source": [
    "data['math score'][~(outlier_low_ms | outlier_up_ms)]"
   ]
  },
  {
   "cell_type": "code",
   "execution_count": 18,
   "id": "51d50e4a",
   "metadata": {},
   "outputs": [],
   "source": [
    "data['math score'] = data['math score'][~(outlier_low_ms|outlier_up_ms)]"
   ]
  },
  {
   "cell_type": "code",
   "execution_count": 19,
   "id": "c36dc68c",
   "metadata": {},
   "outputs": [
    {
     "data": {
      "text/plain": [
       "math score    AxesSubplot(0.125,0.657941;0.227941x0.222059)\n",
       "dtype: object"
      ]
     },
     "execution_count": 19,
     "metadata": {},
     "output_type": "execute_result"
    },
    {
     "data": {
      "image/png": "[encoded data removed]",
      "text/plain": [
       "<Figure size 720x720 with 9 Axes>"
      ]
     },
     "metadata": {
      "needs_background": "light"
     },
     "output_type": "display_data"
    }
   ],
   "source": [
    "data['math score'].plot(kind=\"box\", subplots=True, layout=(3,3), figsize=(10,10)) \n"
   ]
  },
  {
   "cell_type": "code",
   "execution_count": 20,
   "id": "2df9e1fb",
   "metadata": {},
   "outputs": [
    {
     "data": {
      "text/plain": [
       "reading score    AxesSubplot(0.125,0.657941;0.227941x0.222059)\n",
       "dtype: object"
      ]
     },
     "execution_count": 20,
     "metadata": {},
     "output_type": "execute_result"
    },
    {
     "data": {
      "image/png": "[encoded data removed]",
      "text/plain": [
       "<Figure size 720x720 with 9 Axes>"
      ]
     },
     "metadata": {
      "needs_background": "light"
     },
     "output_type": "display_data"
    }
   ],
   "source": [
    "Q1rs = data['reading score'].quantile(0.25)\n",
    "Q3rs = data['reading score'].quantile(0.75)\n",
    "IQRrs= Q3rs - Q1rs\n",
    "lower_lim_rs = Q1rs - 1.5*IQRrs\n",
    "upper_lim_rs = Q3rs +1.5* IQRrs\n",
    "outlier_low_rs= (data[\"reading score\"]<lower_lim_rs)\n",
    "outlier_up_rs= (data[\"reading score\"]>upper_lim_rs)\n",
    "data[\"reading score\"] = data[\"reading score\"][~(outlier_low_rs|outlier_up_rs)]\n",
    "data[\"reading score\"].plot(kind = \"box\", subplots = True, layout= (3,3), figsize=(10,10))\n"
   ]
  },
  {
   "cell_type": "code",
   "execution_count": null,
   "id": "0f5bed2c",
   "metadata": {
    "scrolled": true
   },
   "outputs": [],
   "source": []
  },
  {
   "cell_type": "code",
   "execution_count": 21,
   "id": "1e6ac7e7",
   "metadata": {},
   "outputs": [
    {
     "data": {
      "text/plain": [
       "count    994.000000\n",
       "mean      69.443662\n",
       "std       14.205560\n",
       "min       29.000000\n",
       "25%       60.000000\n",
       "50%       70.000000\n",
       "75%       79.750000\n",
       "max      100.000000\n",
       "Name: reading score, dtype: float64"
      ]
     },
     "execution_count": 21,
     "metadata": {},
     "output_type": "execute_result"
    }
   ],
   "source": [
    "data[\"reading score\"].describe()"
   ]
  },
  {
   "cell_type": "code",
   "execution_count": 22,
   "id": "c902f175",
   "metadata": {},
   "outputs": [
    {
     "data": {
      "text/plain": [
       "writing score    AxesSubplot(0.125,0.657941;0.227941x0.222059)\n",
       "dtype: object"
      ]
     },
     "execution_count": 22,
     "metadata": {},
     "output_type": "execute_result"
    },
    {
     "data": {
      "image/png": "[encoded data removed]",
      "text/plain": [
       "<Figure size 720x720 with 9 Axes>"
      ]
     },
     "metadata": {
      "needs_background": "light"
     },
     "output_type": "display_data"
    }
   ],
   "source": [
    "Q1ws = data['writing score'].quantile(0.25)\n",
    "Q3ws = data['writing score'].quantile(0.75)\n",
    "IQRws= Q3ws - Q1ws\n",
    "lower_lim_ws = Q1ws - 1.5*IQRws\n",
    "upper_lim_ws = Q3ws +1.5* IQRws\n",
    "outlier_low_ws= (data[\"writing score\"]<lower_lim_ws)\n",
    "outlier_up_ws= (data[\"writing score\"]>upper_lim_ws)\n",
    "data[\"writing score\"] = data[\"writing score\"][~(outlier_low_ws|outlier_up_ws)]\n",
    "data[\"writing score\"].plot(kind = \"box\", subplots = True, layout= (3,3), figsize=(10,10))"
   ]
  },
  {
   "cell_type": "code",
   "execution_count": 23,
   "id": "fae7b6e0",
   "metadata": {},
   "outputs": [
    {
     "data": {
      "text/plain": [
       "math score          AxesSubplot(0.125,0.657941;0.227941x0.222059)\n",
       "reading score    AxesSubplot(0.398529,0.657941;0.227941x0.222059)\n",
       "writing score    AxesSubplot(0.672059,0.657941;0.227941x0.222059)\n",
       "dtype: object"
      ]
     },
     "execution_count": 23,
     "metadata": {},
     "output_type": "execute_result"
    },
    {
     "data": {
      "image/png": "[encoded data removed]",
      "text/plain": [
       "<Figure size 720x720 with 9 Axes>"
      ]
     },
     "metadata": {
      "needs_background": "light"
     },
     "output_type": "display_data"
    }
   ],
   "source": [
    "data.plot(kind=\"box\", subplots=True, layout=(3,3), figsize=(10,10)) "
   ]
  },
  {
   "cell_type": "code",
   "execution_count": 24,
   "id": "964b7041",
   "metadata": {},
   "outputs": [
    {
     "name": "stdout",
     "output_type": "stream",
     "text": [
      "        gender race/ethnicity parental level of education     lunch  \\\n",
      "count     1000           1000                        1000      1000   \n",
      "unique       2              5                           6         2   \n",
      "top     female        group C                some college  standard   \n",
      "freq       518            319                         226       645   \n",
      "mean       NaN            NaN                         NaN       NaN   \n",
      "std        NaN            NaN                         NaN       NaN   \n",
      "min        NaN            NaN                         NaN       NaN   \n",
      "25%        NaN            NaN                         NaN       NaN   \n",
      "50%        NaN            NaN                         NaN       NaN   \n",
      "75%        NaN            NaN                         NaN       NaN   \n",
      "max        NaN            NaN                         NaN       NaN   \n",
      "\n",
      "       test preparation course  math score  reading score  writing score  \n",
      "count                     1000  992.000000     994.000000     995.000000  \n",
      "unique                       2         NaN            NaN            NaN  \n",
      "top                       none         NaN            NaN            NaN  \n",
      "freq                       642         NaN            NaN            NaN  \n",
      "mean                       NaN   66.480847      69.443662      68.306533  \n",
      "std                        NaN   14.559999      14.205560      14.804953  \n",
      "min                        NaN   27.000000      29.000000      27.000000  \n",
      "25%                        NaN   57.000000      60.000000      58.000000  \n",
      "50%                        NaN   66.000000      70.000000      69.000000  \n",
      "75%                        NaN   77.000000      79.750000      79.000000  \n",
      "max                        NaN  100.000000     100.000000     100.000000  \n"
     ]
    },
    {
     "data": {
      "text/plain": [
       "array(['none', 'completed'], dtype=object)"
      ]
     },
     "execution_count": 24,
     "metadata": {},
     "output_type": "execute_result"
    }
   ],
   "source": [
    "#for Descriptive Statistics.\n",
    "\n",
    "stats = data.describe(include='all')\n",
    "print(stats)\n",
    "\n",
    "data[\"race/ethnicity\"].unique()\n",
    "\n",
    "data[\"parental level of education\"].unique()\n",
    "\n",
    "data[\"lunch\"].unique()\n",
    "data[\"test preparation course\"].unique()\n",
    "\n",
    "#In total of 1000 students, there are 5 race/ethnicities (Group A,B,C,D,E) of students, Group C having the most number of students. Most of the student's gender is \"female\", rest is \"male\". Their parents had 6 types of education(\"bachelor's degree\", 'some college', \"master's degree\", \"associate's degree\", 'high school', 'some high school'), and most were from \"some college\". Among 2 types of lunch('standard', 'free/reduced'), most students preferred 'standard' ones. \n",
    "#As for the course test, some were prepared and some were incomplete. Min score for math,reading, writing were 27, 31, 27 consecutively, and max was 100. But 50% of the students scored 66,70,69 consecutively in that order.  "
   ]
  },
  {
   "cell_type": "code",
   "execution_count": 25,
   "id": "efc9d51d",
   "metadata": {},
   "outputs": [
    {
     "name": "stdout",
     "output_type": "stream",
     "text": [
      "gender                          object\n",
      "race/ethnicity                  object\n",
      "parental level of education     object\n",
      "lunch                           object\n",
      "test preparation course         object\n",
      "math score                     float64\n",
      "reading score                  float64\n",
      "writing score                  float64\n",
      "dtype: object\n"
     ]
    }
   ],
   "source": [
    "#To find data types\n",
    "data_type= data.dtypes\n",
    "print(data_type)\n",
    "\n",
    "#gender, race/ethnicity,parental level of education, lunch are all object type, while the scores for math,reading, writing are float64 types. "
   ]
  },
  {
   "cell_type": "code",
   "execution_count": 26,
   "id": "e0fb6f2f",
   "metadata": {},
   "outputs": [
    {
     "data": {
      "text/html": [
       "<div>\n",
       "<style scoped>\n",
       "    .dataframe tbody tr th:only-of-type {\n",
       "        vertical-align: middle;\n",
       "    }\n",
       "\n",
       "    .dataframe tbody tr th {\n",
       "        vertical-align: top;\n",
       "    }\n",
       "\n",
       "    .dataframe thead tr th {\n",
       "        text-align: left;\n",
       "    }\n",
       "\n",
       "    .dataframe thead tr:last-of-type th {\n",
       "        text-align: right;\n",
       "    }\n",
       "</style>\n",
       "<table border=\"1\" class=\"dataframe\">\n",
       "  <thead>\n",
       "    <tr>\n",
       "      <th></th>\n",
       "      <th></th>\n",
       "      <th colspan=\"8\" halign=\"left\">math score</th>\n",
       "      <th colspan=\"5\" halign=\"left\">reading score</th>\n",
       "      <th colspan=\"8\" halign=\"left\">writing score</th>\n",
       "    </tr>\n",
       "    <tr>\n",
       "      <th></th>\n",
       "      <th></th>\n",
       "      <th>count</th>\n",
       "      <th>mean</th>\n",
       "      <th>std</th>\n",
       "      <th>min</th>\n",
       "      <th>25%</th>\n",
       "      <th>50%</th>\n",
       "      <th>75%</th>\n",
       "      <th>max</th>\n",
       "      <th>count</th>\n",
       "      <th>mean</th>\n",
       "      <th>...</th>\n",
       "      <th>75%</th>\n",
       "      <th>max</th>\n",
       "      <th>count</th>\n",
       "      <th>mean</th>\n",
       "      <th>std</th>\n",
       "      <th>min</th>\n",
       "      <th>25%</th>\n",
       "      <th>50%</th>\n",
       "      <th>75%</th>\n",
       "      <th>max</th>\n",
       "    </tr>\n",
       "    <tr>\n",
       "      <th>gender</th>\n",
       "      <th>race/ethnicity</th>\n",
       "      <th></th>\n",
       "      <th></th>\n",
       "      <th></th>\n",
       "      <th></th>\n",
       "      <th></th>\n",
       "      <th></th>\n",
       "      <th></th>\n",
       "      <th></th>\n",
       "      <th></th>\n",
       "      <th></th>\n",
       "      <th></th>\n",
       "      <th></th>\n",
       "      <th></th>\n",
       "      <th></th>\n",
       "      <th></th>\n",
       "      <th></th>\n",
       "      <th></th>\n",
       "      <th></th>\n",
       "      <th></th>\n",
       "      <th></th>\n",
       "      <th></th>\n",
       "    </tr>\n",
       "  </thead>\n",
       "  <tbody>\n",
       "    <tr>\n",
       "      <th rowspan=\"5\" valign=\"top\">female</th>\n",
       "      <th>group A</th>\n",
       "      <td>36.0</td>\n",
       "      <td>58.527778</td>\n",
       "      <td>14.157252</td>\n",
       "      <td>34.0</td>\n",
       "      <td>48.75</td>\n",
       "      <td>57.0</td>\n",
       "      <td>68.25</td>\n",
       "      <td>92.0</td>\n",
       "      <td>36.0</td>\n",
       "      <td>69.000000</td>\n",
       "      <td>...</td>\n",
       "      <td>82.25</td>\n",
       "      <td>100.0</td>\n",
       "      <td>36.0</td>\n",
       "      <td>67.861111</td>\n",
       "      <td>14.652455</td>\n",
       "      <td>41.0</td>\n",
       "      <td>57.75</td>\n",
       "      <td>67.0</td>\n",
       "      <td>77.50</td>\n",
       "      <td>97.0</td>\n",
       "    </tr>\n",
       "    <tr>\n",
       "      <th>group B</th>\n",
       "      <td>99.0</td>\n",
       "      <td>63.575758</td>\n",
       "      <td>13.304204</td>\n",
       "      <td>32.0</td>\n",
       "      <td>53.00</td>\n",
       "      <td>63.0</td>\n",
       "      <td>73.00</td>\n",
       "      <td>97.0</td>\n",
       "      <td>103.0</td>\n",
       "      <td>71.533981</td>\n",
       "      <td>...</td>\n",
       "      <td>82.00</td>\n",
       "      <td>97.0</td>\n",
       "      <td>103.0</td>\n",
       "      <td>70.504854</td>\n",
       "      <td>14.213273</td>\n",
       "      <td>27.0</td>\n",
       "      <td>63.00</td>\n",
       "      <td>72.0</td>\n",
       "      <td>80.00</td>\n",
       "      <td>96.0</td>\n",
       "    </tr>\n",
       "    <tr>\n",
       "      <th>group C</th>\n",
       "      <td>178.0</td>\n",
       "      <td>62.606742</td>\n",
       "      <td>14.022676</td>\n",
       "      <td>29.0</td>\n",
       "      <td>54.00</td>\n",
       "      <td>63.5</td>\n",
       "      <td>71.00</td>\n",
       "      <td>96.0</td>\n",
       "      <td>179.0</td>\n",
       "      <td>72.251397</td>\n",
       "      <td>...</td>\n",
       "      <td>81.50</td>\n",
       "      <td>100.0</td>\n",
       "      <td>179.0</td>\n",
       "      <td>72.122905</td>\n",
       "      <td>14.103409</td>\n",
       "      <td>30.0</td>\n",
       "      <td>64.00</td>\n",
       "      <td>74.0</td>\n",
       "      <td>82.00</td>\n",
       "      <td>100.0</td>\n",
       "    </tr>\n",
       "    <tr>\n",
       "      <th>group D</th>\n",
       "      <td>128.0</td>\n",
       "      <td>65.554688</td>\n",
       "      <td>13.793647</td>\n",
       "      <td>27.0</td>\n",
       "      <td>56.75</td>\n",
       "      <td>65.5</td>\n",
       "      <td>75.25</td>\n",
       "      <td>98.0</td>\n",
       "      <td>129.0</td>\n",
       "      <td>74.046512</td>\n",
       "      <td>...</td>\n",
       "      <td>84.00</td>\n",
       "      <td>100.0</td>\n",
       "      <td>129.0</td>\n",
       "      <td>75.023256</td>\n",
       "      <td>13.866814</td>\n",
       "      <td>32.0</td>\n",
       "      <td>65.00</td>\n",
       "      <td>76.0</td>\n",
       "      <td>83.00</td>\n",
       "      <td>100.0</td>\n",
       "    </tr>\n",
       "    <tr>\n",
       "      <th>group E</th>\n",
       "      <td>69.0</td>\n",
       "      <td>70.811594</td>\n",
       "      <td>16.269129</td>\n",
       "      <td>32.0</td>\n",
       "      <td>61.00</td>\n",
       "      <td>71.0</td>\n",
       "      <td>81.00</td>\n",
       "      <td>100.0</td>\n",
       "      <td>69.0</td>\n",
       "      <td>75.840580</td>\n",
       "      <td>...</td>\n",
       "      <td>86.00</td>\n",
       "      <td>100.0</td>\n",
       "      <td>69.0</td>\n",
       "      <td>75.536232</td>\n",
       "      <td>15.703671</td>\n",
       "      <td>38.0</td>\n",
       "      <td>68.00</td>\n",
       "      <td>76.0</td>\n",
       "      <td>87.00</td>\n",
       "      <td>100.0</td>\n",
       "    </tr>\n",
       "    <tr>\n",
       "      <th rowspan=\"5\" valign=\"top\">male</th>\n",
       "      <th>group A</th>\n",
       "      <td>53.0</td>\n",
       "      <td>63.735849</td>\n",
       "      <td>14.520742</td>\n",
       "      <td>28.0</td>\n",
       "      <td>53.00</td>\n",
       "      <td>63.0</td>\n",
       "      <td>72.00</td>\n",
       "      <td>100.0</td>\n",
       "      <td>52.0</td>\n",
       "      <td>62.480769</td>\n",
       "      <td>...</td>\n",
       "      <td>72.00</td>\n",
       "      <td>96.0</td>\n",
       "      <td>52.0</td>\n",
       "      <td>59.923077</td>\n",
       "      <td>14.191749</td>\n",
       "      <td>34.0</td>\n",
       "      <td>48.75</td>\n",
       "      <td>60.5</td>\n",
       "      <td>69.00</td>\n",
       "      <td>92.0</td>\n",
       "    </tr>\n",
       "    <tr>\n",
       "      <th>group B</th>\n",
       "      <td>86.0</td>\n",
       "      <td>65.930233</td>\n",
       "      <td>14.156928</td>\n",
       "      <td>30.0</td>\n",
       "      <td>57.25</td>\n",
       "      <td>65.0</td>\n",
       "      <td>75.75</td>\n",
       "      <td>94.0</td>\n",
       "      <td>85.0</td>\n",
       "      <td>63.305882</td>\n",
       "      <td>...</td>\n",
       "      <td>75.00</td>\n",
       "      <td>96.0</td>\n",
       "      <td>85.0</td>\n",
       "      <td>60.752941</td>\n",
       "      <td>14.094837</td>\n",
       "      <td>27.0</td>\n",
       "      <td>51.00</td>\n",
       "      <td>60.0</td>\n",
       "      <td>70.00</td>\n",
       "      <td>92.0</td>\n",
       "    </tr>\n",
       "    <tr>\n",
       "      <th>group C</th>\n",
       "      <td>139.0</td>\n",
       "      <td>67.611511</td>\n",
       "      <td>14.090037</td>\n",
       "      <td>27.0</td>\n",
       "      <td>58.00</td>\n",
       "      <td>68.0</td>\n",
       "      <td>78.00</td>\n",
       "      <td>98.0</td>\n",
       "      <td>138.0</td>\n",
       "      <td>65.695652</td>\n",
       "      <td>...</td>\n",
       "      <td>75.00</td>\n",
       "      <td>100.0</td>\n",
       "      <td>139.0</td>\n",
       "      <td>62.712230</td>\n",
       "      <td>13.647341</td>\n",
       "      <td>27.0</td>\n",
       "      <td>53.00</td>\n",
       "      <td>62.0</td>\n",
       "      <td>71.50</td>\n",
       "      <td>95.0</td>\n",
       "    </tr>\n",
       "    <tr>\n",
       "      <th>group D</th>\n",
       "      <td>133.0</td>\n",
       "      <td>69.413534</td>\n",
       "      <td>13.094139</td>\n",
       "      <td>39.0</td>\n",
       "      <td>61.00</td>\n",
       "      <td>71.0</td>\n",
       "      <td>80.00</td>\n",
       "      <td>100.0</td>\n",
       "      <td>133.0</td>\n",
       "      <td>66.135338</td>\n",
       "      <td>...</td>\n",
       "      <td>75.00</td>\n",
       "      <td>97.0</td>\n",
       "      <td>133.0</td>\n",
       "      <td>65.413534</td>\n",
       "      <td>13.262574</td>\n",
       "      <td>34.0</td>\n",
       "      <td>56.00</td>\n",
       "      <td>67.0</td>\n",
       "      <td>75.00</td>\n",
       "      <td>99.0</td>\n",
       "    </tr>\n",
       "    <tr>\n",
       "      <th>group E</th>\n",
       "      <td>71.0</td>\n",
       "      <td>76.746479</td>\n",
       "      <td>14.298570</td>\n",
       "      <td>30.0</td>\n",
       "      <td>68.50</td>\n",
       "      <td>78.0</td>\n",
       "      <td>87.00</td>\n",
       "      <td>100.0</td>\n",
       "      <td>70.0</td>\n",
       "      <td>70.928571</td>\n",
       "      <td>...</td>\n",
       "      <td>80.75</td>\n",
       "      <td>100.0</td>\n",
       "      <td>70.0</td>\n",
       "      <td>68.042857</td>\n",
       "      <td>12.378611</td>\n",
       "      <td>40.0</td>\n",
       "      <td>59.25</td>\n",
       "      <td>70.0</td>\n",
       "      <td>76.75</td>\n",
       "      <td>100.0</td>\n",
       "    </tr>\n",
       "  </tbody>\n",
       "</table>\n",
       "<p>10 rows × 24 columns</p>\n",
       "</div>"
      ],
      "text/plain": [
       "                      math score                                           \\\n",
       "                           count       mean        std   min    25%   50%   \n",
       "gender race/ethnicity                                                       \n",
       "female group A              36.0  58.527778  14.157252  34.0  48.75  57.0   \n",
       "       group B              99.0  63.575758  13.304204  32.0  53.00  63.0   \n",
       "       group C             178.0  62.606742  14.022676  29.0  54.00  63.5   \n",
       "       group D             128.0  65.554688  13.793647  27.0  56.75  65.5   \n",
       "       group E              69.0  70.811594  16.269129  32.0  61.00  71.0   \n",
       "male   group A              53.0  63.735849  14.520742  28.0  53.00  63.0   \n",
       "       group B              86.0  65.930233  14.156928  30.0  57.25  65.0   \n",
       "       group C             139.0  67.611511  14.090037  27.0  58.00  68.0   \n",
       "       group D             133.0  69.413534  13.094139  39.0  61.00  71.0   \n",
       "       group E              71.0  76.746479  14.298570  30.0  68.50  78.0   \n",
       "\n",
       "                                    reading score             ...         \\\n",
       "                         75%    max         count       mean  ...    75%   \n",
       "gender race/ethnicity                                         ...          \n",
       "female group A         68.25   92.0          36.0  69.000000  ...  82.25   \n",
       "       group B         73.00   97.0         103.0  71.533981  ...  82.00   \n",
       "       group C         71.00   96.0         179.0  72.251397  ...  81.50   \n",
       "       group D         75.25   98.0         129.0  74.046512  ...  84.00   \n",
       "       group E         81.00  100.0          69.0  75.840580  ...  86.00   \n",
       "male   group A         72.00  100.0          52.0  62.480769  ...  72.00   \n",
       "       group B         75.75   94.0          85.0  63.305882  ...  75.00   \n",
       "       group C         78.00   98.0         138.0  65.695652  ...  75.00   \n",
       "       group D         80.00  100.0         133.0  66.135338  ...  75.00   \n",
       "       group E         87.00  100.0          70.0  70.928571  ...  80.75   \n",
       "\n",
       "                             writing score                                     \\\n",
       "                         max         count       mean        std   min    25%   \n",
       "gender race/ethnicity                                                           \n",
       "female group A         100.0          36.0  67.861111  14.652455  41.0  57.75   \n",
       "       group B          97.0         103.0  70.504854  14.213273  27.0  63.00   \n",
       "       group C         100.0         179.0  72.122905  14.103409  30.0  64.00   \n",
       "       group D         100.0         129.0  75.023256  13.866814  32.0  65.00   \n",
       "       group E         100.0          69.0  75.536232  15.703671  38.0  68.00   \n",
       "male   group A          96.0          52.0  59.923077  14.191749  34.0  48.75   \n",
       "       group B          96.0          85.0  60.752941  14.094837  27.0  51.00   \n",
       "       group C         100.0         139.0  62.712230  13.647341  27.0  53.00   \n",
       "       group D          97.0         133.0  65.413534  13.262574  34.0  56.00   \n",
       "       group E         100.0          70.0  68.042857  12.378611  40.0  59.25   \n",
       "\n",
       "                                           \n",
       "                        50%    75%    max  \n",
       "gender race/ethnicity                      \n",
       "female group A         67.0  77.50   97.0  \n",
       "       group B         72.0  80.00   96.0  \n",
       "       group C         74.0  82.00  100.0  \n",
       "       group D         76.0  83.00  100.0  \n",
       "       group E         76.0  87.00  100.0  \n",
       "male   group A         60.5  69.00   92.0  \n",
       "       group B         60.0  70.00   92.0  \n",
       "       group C         62.0  71.50   95.0  \n",
       "       group D         67.0  75.00   99.0  \n",
       "       group E         70.0  76.75  100.0  \n",
       "\n",
       "[10 rows x 24 columns]"
      ]
     },
     "execution_count": 26,
     "metadata": {},
     "output_type": "execute_result"
    }
   ],
   "source": [
    "data.groupby(['gender','race/ethnicity']).describe() \n"
   ]
  },
  {
   "cell_type": "code",
   "execution_count": 34,
   "id": "8c0f30f6",
   "metadata": {},
   "outputs": [
    {
     "data": {
      "image/png": "[encoded data removed]",
      "text/plain": [
       "<Figure size 432x288 with 4 Axes>"
      ]
     },
     "metadata": {
      "needs_background": "light"
     },
     "output_type": "display_data"
    }
   ],
   "source": [
    "#histogram to show the distribution of the scores in math, reading, and writing. \n",
    "data.hist() \n",
    "plt.show() "
   ]
  },
  {
   "cell_type": "code",
   "execution_count": 40,
   "id": "e98f0a66",
   "metadata": {},
   "outputs": [
    {
     "data": {
      "text/html": [
       "<div>\n",
       "<style scoped>\n",
       "    .dataframe tbody tr th:only-of-type {\n",
       "        vertical-align: middle;\n",
       "    }\n",
       "\n",
       "    .dataframe tbody tr th {\n",
       "        vertical-align: top;\n",
       "    }\n",
       "\n",
       "    .dataframe thead th {\n",
       "        text-align: right;\n",
       "    }\n",
       "</style>\n",
       "<table border=\"1\" class=\"dataframe\">\n",
       "  <thead>\n",
       "    <tr style=\"text-align: right;\">\n",
       "      <th></th>\n",
       "      <th>gender</th>\n",
       "      <th>race/ethnicity</th>\n",
       "      <th>parental level of education</th>\n",
       "      <th>lunch</th>\n",
       "      <th>test preparation course</th>\n",
       "      <th>math score</th>\n",
       "      <th>reading score</th>\n",
       "      <th>writing score</th>\n",
       "    </tr>\n",
       "  </thead>\n",
       "  <tbody>\n",
       "    <tr>\n",
       "      <th>0</th>\n",
       "      <td>female</td>\n",
       "      <td>group B</td>\n",
       "      <td>bachelor's degree</td>\n",
       "      <td>standard</td>\n",
       "      <td>none</td>\n",
       "      <td>72.0</td>\n",
       "      <td>72.0</td>\n",
       "      <td>74.0</td>\n",
       "    </tr>\n",
       "    <tr>\n",
       "      <th>1</th>\n",
       "      <td>female</td>\n",
       "      <td>group C</td>\n",
       "      <td>some college</td>\n",
       "      <td>standard</td>\n",
       "      <td>completed</td>\n",
       "      <td>69.0</td>\n",
       "      <td>90.0</td>\n",
       "      <td>88.0</td>\n",
       "    </tr>\n",
       "    <tr>\n",
       "      <th>2</th>\n",
       "      <td>female</td>\n",
       "      <td>group B</td>\n",
       "      <td>master's degree</td>\n",
       "      <td>standard</td>\n",
       "      <td>none</td>\n",
       "      <td>90.0</td>\n",
       "      <td>95.0</td>\n",
       "      <td>93.0</td>\n",
       "    </tr>\n",
       "    <tr>\n",
       "      <th>3</th>\n",
       "      <td>male</td>\n",
       "      <td>group A</td>\n",
       "      <td>associate's degree</td>\n",
       "      <td>free/reduced</td>\n",
       "      <td>none</td>\n",
       "      <td>47.0</td>\n",
       "      <td>57.0</td>\n",
       "      <td>44.0</td>\n",
       "    </tr>\n",
       "    <tr>\n",
       "      <th>4</th>\n",
       "      <td>male</td>\n",
       "      <td>group C</td>\n",
       "      <td>some college</td>\n",
       "      <td>standard</td>\n",
       "      <td>none</td>\n",
       "      <td>76.0</td>\n",
       "      <td>78.0</td>\n",
       "      <td>75.0</td>\n",
       "    </tr>\n",
       "    <tr>\n",
       "      <th>...</th>\n",
       "      <td>...</td>\n",
       "      <td>...</td>\n",
       "      <td>...</td>\n",
       "      <td>...</td>\n",
       "      <td>...</td>\n",
       "      <td>...</td>\n",
       "      <td>...</td>\n",
       "      <td>...</td>\n",
       "    </tr>\n",
       "    <tr>\n",
       "      <th>995</th>\n",
       "      <td>female</td>\n",
       "      <td>group E</td>\n",
       "      <td>master's degree</td>\n",
       "      <td>standard</td>\n",
       "      <td>completed</td>\n",
       "      <td>88.0</td>\n",
       "      <td>99.0</td>\n",
       "      <td>95.0</td>\n",
       "    </tr>\n",
       "    <tr>\n",
       "      <th>996</th>\n",
       "      <td>male</td>\n",
       "      <td>group C</td>\n",
       "      <td>high school</td>\n",
       "      <td>free/reduced</td>\n",
       "      <td>none</td>\n",
       "      <td>62.0</td>\n",
       "      <td>55.0</td>\n",
       "      <td>55.0</td>\n",
       "    </tr>\n",
       "    <tr>\n",
       "      <th>997</th>\n",
       "      <td>female</td>\n",
       "      <td>group C</td>\n",
       "      <td>high school</td>\n",
       "      <td>free/reduced</td>\n",
       "      <td>completed</td>\n",
       "      <td>59.0</td>\n",
       "      <td>71.0</td>\n",
       "      <td>65.0</td>\n",
       "    </tr>\n",
       "    <tr>\n",
       "      <th>998</th>\n",
       "      <td>female</td>\n",
       "      <td>group D</td>\n",
       "      <td>some college</td>\n",
       "      <td>standard</td>\n",
       "      <td>completed</td>\n",
       "      <td>68.0</td>\n",
       "      <td>78.0</td>\n",
       "      <td>77.0</td>\n",
       "    </tr>\n",
       "    <tr>\n",
       "      <th>999</th>\n",
       "      <td>female</td>\n",
       "      <td>group D</td>\n",
       "      <td>some college</td>\n",
       "      <td>free/reduced</td>\n",
       "      <td>none</td>\n",
       "      <td>77.0</td>\n",
       "      <td>86.0</td>\n",
       "      <td>86.0</td>\n",
       "    </tr>\n",
       "  </tbody>\n",
       "</table>\n",
       "<p>1000 rows × 8 columns</p>\n",
       "</div>"
      ],
      "text/plain": [
       "     gender race/ethnicity parental level of education         lunch  \\\n",
       "0    female        group B           bachelor's degree      standard   \n",
       "1    female        group C                some college      standard   \n",
       "2    female        group B             master's degree      standard   \n",
       "3      male        group A          associate's degree  free/reduced   \n",
       "4      male        group C                some college      standard   \n",
       "..      ...            ...                         ...           ...   \n",
       "995  female        group E             master's degree      standard   \n",
       "996    male        group C                 high school  free/reduced   \n",
       "997  female        group C                 high school  free/reduced   \n",
       "998  female        group D                some college      standard   \n",
       "999  female        group D                some college  free/reduced   \n",
       "\n",
       "    test preparation course  math score  reading score  writing score  \n",
       "0                      none        72.0           72.0           74.0  \n",
       "1                 completed        69.0           90.0           88.0  \n",
       "2                      none        90.0           95.0           93.0  \n",
       "3                      none        47.0           57.0           44.0  \n",
       "4                      none        76.0           78.0           75.0  \n",
       "..                      ...         ...            ...            ...  \n",
       "995               completed        88.0           99.0           95.0  \n",
       "996                    none        62.0           55.0           55.0  \n",
       "997               completed        59.0           71.0           65.0  \n",
       "998               completed        68.0           78.0           77.0  \n",
       "999                    none        77.0           86.0           86.0  \n",
       "\n",
       "[1000 rows x 8 columns]"
      ]
     },
     "execution_count": 40,
     "metadata": {},
     "output_type": "execute_result"
    }
   ],
   "source": [
    "data"
   ]
  },
  {
   "cell_type": "code",
   "execution_count": 42,
   "id": "c8d9564d",
   "metadata": {},
   "outputs": [
    {
     "data": {
      "image/png": "[encoded data removed]",
      "text/plain": [
       "<Figure size 720x432 with 1 Axes>"
      ]
     },
     "metadata": {
      "needs_background": "light"
     },
     "output_type": "display_data"
    }
   ],
   "source": [
    "#finding avg score according to gender\n",
    "\n",
    "avg_scores_gender = data.groupby('gender')[['math score', 'reading score', 'writing score']].mean()\n",
    "\n",
    "\n",
    "avg_scores_gender.plot(kind='bar', width=0.8, figsize=(10, 6), colormap='viridis')\n",
    "\n",
    "\n",
    "plt.title('Average Scores in Math, Reading, and Writing by Gender')\n",
    "plt.xlabel('Gender')\n",
    "plt.ylabel('Average Score')\n",
    "\n",
    "\n",
    "plt.show()"
   ]
  },
  {
   "cell_type": "code",
   "execution_count": 43,
   "id": "2af0b479",
   "metadata": {},
   "outputs": [
    {
     "data": {
      "image/png": "[encoded data removed]",
      "text/plain": [
       "<Figure size 540x540 with 12 Axes>"
      ]
     },
     "metadata": {
      "needs_background": "light"
     },
     "output_type": "display_data"
    }
   ],
   "source": [
    "#Create a scatter plot to show the relationship between math, reading, and writing scores.\n",
    "pairplot = sns.pairplot(data)\n",
    "\n",
    "# Display the plot\n",
    "plt.show()"
   ]
  },
  {
   "cell_type": "code",
   "execution_count": 44,
   "id": "4b2b6bbb",
   "metadata": {},
   "outputs": [
    {
     "name": "stdout",
     "output_type": "stream",
     "text": [
      "Math Scores:\n",
      "Mean: 66.48084677419355\n",
      "Median: 66.0\n",
      "Mode: 65.0\n",
      "\n",
      "Reading Scores:\n",
      "Mean: 69.44366197183099\n",
      "Median: 70.0\n",
      "Mode: 72.0\n",
      "\n",
      "Writing Scores:\n",
      "Mean: 68.30653266331659\n",
      "Median: 69.0\n",
      "Mode: 74.0\n"
     ]
    }
   ],
   "source": [
    "# 5. Perform basic statistical analysis: \n",
    "\n",
    "#Calculate mean, median, and mode for math, reading, and writing scores:\n",
    "\n",
    "\n",
    "\n",
    "\n",
    "mean_math = data['math score'].mean()\n",
    "median_math = data['math score'].median()\n",
    "mode_math = data['math score'].mode().iloc[0]  \n",
    "\n",
    "\n",
    "mean_reading = data['reading score'].mean()\n",
    "median_reading = data['reading score'].median()\n",
    "mode_reading = data['reading score'].mode().iloc[0]\n",
    "\n",
    "\n",
    "mean_writing = data['writing score'].mean()\n",
    "median_writing = data['writing score'].median()\n",
    "mode_writing = data['writing score'].mode().iloc[0]\n",
    "\n",
    "\n",
    "print(\"Math Scores:\")\n",
    "print(\"Mean:\", mean_math)\n",
    "print(\"Median:\", median_math)\n",
    "print(\"Mode:\", mode_math)\n",
    "print(\"\\nReading Scores:\")\n",
    "print(\"Mean:\", mean_reading)\n",
    "print(\"Median:\", median_reading)\n",
    "print(\"Mode:\", mode_reading)\n",
    "print(\"\\nWriting Scores:\")\n",
    "print(\"Mean:\", mean_writing)\n",
    "print(\"Median:\", median_writing)\n",
    "print(\"Mode:\", mode_writing)\n"
   ]
  },
  {
   "cell_type": "code",
   "execution_count": 45,
   "id": "5f5aa7a8",
   "metadata": {},
   "outputs": [
    {
     "name": "stdout",
     "output_type": "stream",
     "text": [
      "Math Scores Standard Deviation: 14.559999254579298\n",
      "Reading Scores Standard Deviation: 14.205559847627073\n",
      "Writing Scores Standard Deviation: 14.804952796327905\n"
     ]
    }
   ],
   "source": [
    "#Calculate the standard deviation for math, reading, and writing scores.\n",
    "std_dev_math = data['math score'].std()\n",
    "std_dev_reading = data['reading score'].std()\n",
    "std_dev_writing = data['writing score'].std()\n",
    "\n",
    "print(\"Math Scores Standard Deviation:\", std_dev_math)\n",
    "print(\"Reading Scores Standard Deviation:\", std_dev_reading)\n",
    "print(\"Writing Scores Standard Deviation:\", std_dev_writing)\n"
   ]
  },
  {
   "cell_type": "code",
   "execution_count": 47,
   "id": "bf337552",
   "metadata": {},
   "outputs": [
    {
     "name": "stdout",
     "output_type": "stream",
     "text": [
      "Math Scores:\n",
      "t-statistic: nan\n",
      "p-value: nan\n",
      "\n",
      "Reading Scores:\n",
      "t-statistic: nan\n",
      "p-value: nan\n",
      "\n",
      "Writing Scores:\n",
      "t-statistic: nan\n",
      "p-value: nan\n",
      "\n",
      "There is no significant difference in math scores between male and female students.\n",
      "There is no significant difference in reading scores between male and female students.\n",
      "There is no significant difference in writing scores between male and female students.\n"
     ]
    }
   ],
   "source": [
    "male_scores = data[data['gender'] == 'male']\n",
    "female_scores = data[data['gender'] == 'female']\n",
    "\n",
    "\n",
    "t_stat_math, p_value_math = stats.ttest_ind(male_scores['math score'], female_scores['math score'])\n",
    "t_stat_reading, p_value_reading = stats.ttest_ind(male_scores['reading score'], female_scores['reading score'])\n",
    "t_stat_writing, p_value_writing = stats.ttest_ind(male_scores['writing score'], female_scores['writing score'])\n",
    "\n",
    "\n",
    "print(\"Math Scores:\")\n",
    "print(\"t-statistic:\", t_stat_math)\n",
    "print(\"p-value:\", p_value_math)\n",
    "print(\"\\nReading Scores:\")\n",
    "print(\"t-statistic:\", t_stat_reading)\n",
    "print(\"p-value:\", p_value_reading)\n",
    "print(\"\\nWriting Scores:\")\n",
    "print(\"t-statistic:\", t_stat_writing)\n",
    "print(\"p-value:\", p_value_writing)\n",
    "\n",
    "alpha = 0.05\n",
    "if p_value_math < alpha:\n",
    "    print(\"\\nThere is a significant difference in math scores between male and female students.\")\n",
    "else:\n",
    "    print(\"\\nThere is no significant difference in math scores between male and female students.\")\n",
    "\n",
    "if p_value_reading < alpha:\n",
    "    print(\"There is a significant difference in reading scores between male and female students.\")\n",
    "else:\n",
    "    print(\"There is no significant difference in reading scores between male and female students.\")\n",
    "\n",
    "if p_value_writing < alpha:\n",
    "    print(\"There is a significant difference in writing scores between male and female students.\")\n",
    "else:\n",
    "    print(\"There is no significant difference in writing scores between male and female students.\")"
   ]
  },
  {
   "cell_type": "code",
   "execution_count": null,
   "id": "2c598d5d",
   "metadata": {},
   "outputs": [],
   "source": []
  }
 ],
 "metadata": {
  "kernelspec": {
   "display_name": "Python 3 (ipykernel)",
   "language": "python",
   "name": "python3"
  },
  "language_info": {
   "codemirror_mode": {
    "name": "ipython",
    "version": 3
   },
   "file_extension": ".py",
   "mimetype": "text/x-python",
   "name": "python",
   "nbconvert_exporter": "python",
   "pygments_lexer": "ipython3",
   "version": "3.9.12"
  }
 },
 "nbformat": 4,
 "nbformat_minor": 5
}
